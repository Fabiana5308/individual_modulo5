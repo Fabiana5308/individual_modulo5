{
  "nbformat": 4,
  "nbformat_minor": 0,
  "metadata": {
    "colab": {
      "provenance": [],
      "authorship_tag": "ABX9TyPSHJ3pao9BkgMNh7vXpwxz",
      "include_colab_link": true
    },
    "kernelspec": {
      "name": "python3",
      "display_name": "Python 3"
    },
    "language_info": {
      "name": "python"
    }
  },
  "cells": [
    {
      "cell_type": "markdown",
      "metadata": {
        "id": "view-in-github",
        "colab_type": "text"
      },
      "source": [
        "<a href=\"https://colab.research.google.com/github/Fabiana5308/individual_modulo5/blob/main/Untitled5.ipynb\" target=\"_parent\"><img src=\"https://colab.research.google.com/assets/colab-badge.svg\" alt=\"Open In Colab\"/></a>"
      ]
    },
    {
      "cell_type": "markdown",
      "source": [
        "#<font color = gold>**PROJETO INDIVIDUAL**\n",
        "\n",
        "<font color = gold> *Módulo 5 -  Pessoas\n",
        "deixando a empresa*"
      ],
      "metadata": {
        "id": "tr8iofXgBVC3"
      }
    },
    {
      "cell_type": "markdown",
      "source": [
        "#<font color = gold> Dados fornecidos:\n",
        "![Imgur](https://i.imgur.com/fHxmFnF.png)\n"
      ],
      "metadata": {
        "id": "iKpdelvedkki"
      }
    },
    {
      "cell_type": "markdown",
      "source": [
        "![Imgur](https://i.imgur.com/l1jJBjj.png)"
      ],
      "metadata": {
        "id": "_RYpX-j2AFAB"
      }
    },
    {
      "cell_type": "markdown",
      "source": [
        "#1. O que está sendo mostrado aqui?\n",
        " Este gráfico de bolhas representa as razões pelas quais os funcionários estão deixando a empresa na área de marketing. Cada bolha representa uma categoria específica de razões e o tamanho da bolha indica a frequência dessa razão. Elas estão divididas em categorias, representadas por diferentes cores. As categorias incluem: Treinamento, Conflito com Outros, Falta de Reconhecimento, Carga Horária, Progressão de Carreira, Remuneração, Tipo de Trabalho, Mudança de Carreira, Trajeto, Realocação e Doença.\n",
        "\n",
        "#2. Que observações você pode fazer a partir desses dados?\n",
        " Este gráfico nos mostra as razões subjacentes pelas quais os funcionários estão saindo da empresa no departamento de marketing. Cada bolha representa uma categoria de razões, como treinamento, reconhecimento ou progressão de carreira, e o tamanho da bolha nos dá uma ideia da frequência dessas razões. Em resumo, é uma representação visual das principais causas que estão levando os funcionários a deixar a empresa.O visual em sua forma atual tem algumas limitações. Primeiro, um gráfico de bolhas pode não ser a melhor escolha para representar esses dados, pois pode ser difícil comparar as proporções das bolhas entre si.\n",
        "\n",
        "\n",
        "#3. O que não é ideal ou poderia ser evitado na visualização em sua forma atual? Que perguntas você faria ou que feedback daria para quem fez o gráfico?\n",
        "Bom trabalho na representação visual das razões de saída! No entanto, não querendo menosprezar todo o trabalho e dedicação que teve fazendo o gráfico, porém considerando a clareza nas informações, um gráfico de barras nos daria uma melhor visibilidade dos dados. Gostaria de te mostrar outras maneiras de visualizar e espero que goste.\n"
      ],
      "metadata": {
        "id": "NQ6jmKe8bRik"
      }
    },
    {
      "cell_type": "markdown",
      "source": [
        "---"
      ],
      "metadata": {
        "id": "rr9HZn37Xy_e"
      }
    },
    {
      "cell_type": "markdown",
      "source": [
        "- Nesta análise, exploraremos as razões para a saída de funcionários em nossa organização e sua relação com três métricas diferentes: \"Ability to impact\", \"HRBP\" e \"Exit survey\". Vamos descobrir quais razões são mais impactantes e como as métricas se correlacionam.\n",
        "* Razões para a Saída:\n",
        "Começaremos nossa análise examinando as principais razões para a saída de funcionários. Aqui estão as principais razões identificadas:\n",
        "\n",
        "* Progressão de Carreira: A progressão de carreira é um fator crítico, com uma pontuação média de 137 na métrica HRBP e 171 na métrica Exit Survey. Isso indica que os funcionários valorizam oportunidades de crescimento.\n",
        "\n",
        "* Falta de Reconhecimento: Com uma pontuação média de 65 na métrica HRBP, fica claro que a falta de reconhecimento é uma das principais razões para a saída de funcionários. Isso também é corroborado pela pontuação média de 44 na métrica Exit Survey.\n",
        "\n",
        "\n",
        "* Tipo de Trabalho: A métrica \"RHBP\" mostra uma pontuação  de 128 para o tipo de trabalho, sugerindo que a natureza do trabalho desempenha um papel significativo na decisão de sair."
      ],
      "metadata": {
        "id": "CRAapXBOX0_K"
      }
    },
    {
      "cell_type": "markdown",
      "source": [
        "#4. Crie três maneiras diferentes de mostrar esses dados e liste quais são algumasvantagens e insuficiências de cada uma."
      ],
      "metadata": {
        "id": "YsxtXE1aUnDO"
      }
    },
    {
      "cell_type": "markdown",
      "source": [
        "#<font color = gold> Razões para Saída de Funcionários na Organização de Marketing\n",
        "\n",
        "![Imgur](https://i.imgur.com/Odp9xWz.png)\n",
        "\n",
        "O primeiro gráfico é o de árvore, nele temos cada razão e seus valores:\n",
        "\n",
        "Sendo o primeiro =  **Exit survey**\n",
        "\n",
        "E o segundo = **HRBP**\n",
        "\n",
        "\n",
        "\n",
        "#<font color = orange >Razões -  <font color = red>  HRBP - <font color = blue> Exit survey\n",
        "\n",
        "<font color = orange >Career advancement - <font color = red>  137 -  <font color = blue>\t171\n",
        "\n",
        "<font color = orange >Type of work -\t<font color = red>78 - <font color = blue> 128\n",
        "\n",
        "<font color = orange >Lack of recognition - <font color = red> 44 - <font color = blue>65\n",
        "\n",
        "<font color = orange >Workload - <font color = red> 39 - <font color = blue>    14\n",
        "\n",
        "<font color = orange >Relocation - <font color = red> 37 - <font color = blue>  105\n",
        "\n",
        "<font color = orange >Career change - <font color = red> 30 - <font color = blue>18\n",
        "\n",
        "<font color = orange >Training - <font color = red> 23 - <font color = blue>    31\n",
        "\n",
        "<font color = orange >Commute - <font color = red> 22 - <font color = blue>    31\n",
        "\n",
        "<font color = orange >Pay - <font color = red> 24 - <font color = blue> 16\n",
        "\n",
        "<font color = orange >Illness - <font color = red> 21 - <font color = blue> 9\n",
        "\n",
        "<font color = orange >Conflict with others - <font color = red> 15 - <font color = blue>    11\n",
        "\n",
        "\n",
        "Neste gráfico de árvore, apresento as principais razões pelas quais os funcionários deixaram nossa organização de marketing. Ele fornece uma visão clara das categorias mais impactantes. A **Career advancement** é a categoria  mais frequente para saídas. Isso nos ajuda a identificar áreas onde podemos focar nossos esforços para melhorar a retenção de talentos e criar um ambiente de trabalho mais satisfatório.\n",
        "Este formato de apresentação nos permite  visualizar facilmente os dados e entender as principais razões para a saída dos funcionários, ajudando a direcionar futuras ações e decisões estratégicas.\n",
        "Usei as cores mais fortes pra mostrar os valores mais altos e o tom vai diminuindo conforme os valores também. E **Conflict with others** ficou como a menor razão."
      ],
      "metadata": {
        "id": "vk0XVoc43BCW"
      }
    },
    {
      "cell_type": "markdown",
      "source": [
        "---"
      ],
      "metadata": {
        "id": "kJ-Yoznh5D1Y"
      }
    },
    {
      "cell_type": "markdown",
      "source": [
        "![Imgur](https://i.imgur.com/5KPIDiL.png)\n",
        "\n",
        "Neste gráfico de barras horizontais podemos ter informações mais claras, também coloquei a soma do total. É bem mais fácil fazer comparações com ele, assim podemos investigar mais a fundo as razões de saida. E com isso encontrar uma solução pra diminuir esses números.\n",
        "É interessante como há uma diferença entre o que as pessoas responderam em uma entrevista com o RH e um avaliação anônima. Mostra que talvez as pessoas se sentiram mais confortáveis em não revelar algum conflito ou insatisfação.\n",
        "\n",
        "* Vantagens: Facilita a comparação das razões de saída, permite a inclusão de números específicos, é mais fácil de entender.\n",
        "* Desvantagens: Pode ser visualmente menos atraente, especialmente em apresentações."
      ],
      "metadata": {
        "id": "VWc_ifYLSHHq"
      }
    },
    {
      "cell_type": "markdown",
      "source": [
        "---"
      ],
      "metadata": {
        "id": "KcMK3v2-5BgJ"
      }
    },
    {
      "cell_type": "markdown",
      "source": [
        "![Imgur](https://i.imgur.com/2e4AdZI.png)\n",
        "\n",
        "Aqui fiz um gráfico de barras vertical agrupado por **Fatores**:\n",
        "\n",
        "* Reconhecimento\n",
        "\n",
        "* Trabalho\n",
        "\n",
        "* Externos\n",
        "\n",
        "Novamente podemos ver que as pessoas se sentiram mais confortáveis na avaliação\n",
        "anônima do que em entrevista com RH.\n",
        "Da a entender que as pessoas não sentem que seu trabalho é reconhecido. E que não terão chances de crescer na empresa e com isso optam por sair.\n",
        "\n",
        "Fator trabalho consegue destaque em entrevista com RH, abaixo trago outo gráfico que talvez explique melhor.\n",
        "\n",
        "Já quando o motivo não é interno, podemos ver claramente que o receio em dizer a verdade muda muito.\n",
        "\n",
        "* Vantagens:\n",
        "Permite uma comparação direta das frequências das razões.\n",
        "Facilita a identificação das razões mais comuns.\n",
        "* Desvantagens:\n",
        "Difícil de visualizar o impacto das razões, já que não considera o eixo de impacto."
      ],
      "metadata": {
        "id": "RH3PrmWWSUIa"
      }
    },
    {
      "cell_type": "markdown",
      "source": [
        "---"
      ],
      "metadata": {
        "id": "cPlzDICi-6or"
      }
    },
    {
      "cell_type": "markdown",
      "source": [
        "![Imgur](https://i.imgur.com/Ebk7H4K.png)\n",
        "\n",
        "Fiz este gráfico de barras horizontal com as informações das avaliações\n",
        "anônimas de saída com Fatores.\n",
        "E olha como fica informativo, já de cara podemos ver que a falta de reconhecimento e progressão de carreira são as razões mais significativas para a saída no fator reconhecimento. E que tipo de trabalho e carga horária ocupam os maiores valores quando se trata de fatores de trabalho.\n",
        "\n",
        "Com base nas conclusões, implementar programas de reconhecimento e desenvolvimento profissional pode ajudar na retenção. Abordar as razões identificadas por meio de reuniões e feedbacks com mais frequência, também pode ser um ponto chave de melhorias.\n",
        "\n"
      ],
      "metadata": {
        "id": "ls6SLZCqSk9L"
      }
    },
    {
      "cell_type": "markdown",
      "source": [
        "![Imgur](https://i.imgur.com/AGD7pcD.png)\n",
        "\n",
        "Quando observamos as respostas dadas em entrevista com o RH, ainda temos **progressão de carreira** em maior valor. Mas note que **Relocação** também  ganha destaque. E isso só reforça o que pontuei anteriormente, que as pessoas podem se sentir intimidadas e por isso acabam por não falar o que realmente está ocasionando sua saída.\n",
        "\n",
        "Acho que uma maneira de melhorar esse relacionamento é criar um vínculo maior e\n",
        "buscar entre eles propostas e ideias de melhorias e ver o que da pra implementar. Muitos fatores causam saídas, pessoas sobrecarregadas, remuneração, reconhecimento, treinamento, intrigas e por ai vai. São cabeças diferentes dividindo o mesmo ambiente e nem sempre isso será harmônico.   "
      ],
      "metadata": {
        "id": "n-y85bfXSwy0"
      }
    },
    {
      "cell_type": "markdown",
      "source": [
        "---"
      ],
      "metadata": {
        "id": "Xqt9qK7dTInn"
      }
    },
    {
      "cell_type": "markdown",
      "source": [
        "![Imgur](https://i.imgur.com/OlK3nTg.png)\n",
        "\n",
        "Criei esse painel de controle também, ele é bem simples e da pra interagir e filtrar as buscas o que facilita muito nas análises.\n",
        "Também fiz a média que no caso é a de **progressão de carreira** com o valor de: **154**"
      ],
      "metadata": {
        "id": "jzGnhuiaLqs-"
      }
    },
    {
      "cell_type": "markdown",
      "source": [
        "---"
      ],
      "metadata": {
        "id": "MEMYz_JzTjpZ"
      }
    },
    {
      "cell_type": "markdown",
      "source": [
        "# 5. Qual visualização representa melhor os dados e por quê?\n",
        "\n",
        "O gráfico de barras horizontais. Na minha opinião facilita a visualização e traz as informações com um pouco mais de clareza e com isso as melhorias podem ser corretamente direcionadas."
      ],
      "metadata": {
        "id": "-FXOveFmVFDL"
      }
    },
    {
      "cell_type": "markdown",
      "source": [
        "# 6. Como você pode gerar essas informações em uma história orientada por dados para seu chefe? O objetivo é pensar além de mostrar simplesmente dados e mostrar o contexto da história.\n",
        "\n",
        "Imagine que estamos juntos em uma jornada de descoberta:\n",
        "\n",
        " O Começo da Jornada\n",
        "\n",
        "Imagino que você esteja curioso sobre o que acontece dentro da organização quando os funcionários decidem sair. Bem, eu também estava. Então, comecei a jornada com um conjunto de dados que parecia um enigma. Havia três fontes diferentes de informações, cada uma oferecendo uma visão das razões pelas quais os funcionários deixam a empresa. Isso é como se eu tivesse um mapa com três trilhas diferentes para explorar.\n",
        "\n",
        "Decidi começar exploração. Como estava entrando em uma trilha desconhecida, comecei a calcular métricas básicas para entender os dados. Isso foi como tirar uma bússola da mochila para ter uma noção do terreno. Descobri que cada fonte de dados tinha sua própria maneira de ver as coisas. Imagine isso como diferentes exploradores que observam a mesma paisagem de ângulos diferentes.\n",
        "\n",
        "Para tornar as coisas mais claras, criei alguns gráficos. Foi como iluminar a floresta escura com lanternas. Descobri algumas tendências interessantes. As razões para a saída dos funcionários eram um pouco divergentes. Por exemplo, notamos que a razão \"Career advancement\" era particularmente alta para \"Exit survey\" e um pouco mais baixa 'HRBP'. Essa foi uma pista importante.\n",
        "\n",
        "As diferenças entre as fontes de dados me deixou intrigada. Por que \"Career advancement\" era tão alta para \"Exit survey\"? Era como encontrar pegadas misteriosas na trilha. Comecei a me perguntar se havia uma explicação para isso.\n",
        "\n",
        "Para confirmar minhas suspeitas, decidi realizar alguns testes estatísticos. Essa parte foi como lançar redes para pescar informações adicionais no rio de dados. Os testes mostraram que algumas diferenças eram reais e não apenas coincidências. Era como encontrar tesouros escondidos sob a superfície.\n",
        "\n",
        "Com todas as análises feitas, chegou a hora de contar a história dos dados. Identifiquei as principais razões para a saída dos funcionários em cada fonte de dados e expliquei as discrepâncias. Meu sentimento era de estar montado um quebra-cabeça para ver a imagem completa. E isso me ajudou a entender que a percepção de \"Career advancement\" era diferente entre os funcionários e os HRBPs.\n",
        "\n",
        "Finalmente, ofereço a você algumas sugestões com base nas conclusões da análise. Proponho que a empresa melhore a comunicação sobre oportunidades de progressão de carreira para alinhar as percepções. Isso é como fornecer um mapa que mostra o caminho para resolver os desafios que encontramos ao longo da jornada.\n",
        "Nesta jornada de análise de dados, explorei um território desconhecido de informações complexas e, no final, forneci insights valiosos. A análise contribui para uma compreensão mais profunda das razões para a saída dos funcionários, com isso a empresa poderá buscar por soluções para reter talentos valiosos. Espero que essa jornada tenha sido tão empolgante para você quanto foi para mim!"
      ],
      "metadata": {
        "id": "Faj-ZcdFWaZ-"
      }
    },
    {
      "cell_type": "markdown",
      "source": [
        "---"
      ],
      "metadata": {
        "id": "Qy0a9YL7W4kx"
      }
    },
    {
      "cell_type": "markdown",
      "source": [
        "#Conclusões:\n",
        "Com base em nossa análise, podemos tirar as seguintes conclusões:\n",
        "\n",
        "* A falta de reconhecimento e a falta de oportunidades de progressão de carreira são as principais razões para a saída de funcionários.\n",
        "\n",
        "* A natureza do trabalho desempenha um papel importante na satisfação dos funcionários.\n",
        "\n",
        "* Existe uma forte correlação entre a relação com o HRBP e as respostas na pesquisa de saída, o que sugere a importância de uma boa gestão de recursos humanos.\n",
        "\n"
      ],
      "metadata": {
        "id": "tdWfMRM0Tlg5"
      }
    },
    {
      "cell_type": "markdown",
      "source": [
        "#Recomendações:\n",
        "\n",
        "* Compreender esses insights nos permite tomar medidas para melhorar a retenção de funcionários:\n",
        "\n",
        "* Implementar programas de reconhecimento e desenvolvimento de carreira para melhorar a satisfação dos funcionários.\n",
        "\n",
        "* Avaliar a natureza do trabalho e garantir que ele esteja alinhado com as expectativas dos funcionários.\n",
        "\n",
        "* Investir em treinamento e desenvolvimento de HRBP para fortalecer a relação entre eles e os funcionários.\n",
        "\n",
        "* Essa análise fornece um ponto de partida para aprimorar a retenção de talentos em nossa organização, com base em dados sólidos e insights relevantes."
      ],
      "metadata": {
        "id": "_iLZs4mxZmDt"
      }
    }
  ]
}